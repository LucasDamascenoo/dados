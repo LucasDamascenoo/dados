{
 "cells": [
  {
   "cell_type": "markdown",
   "metadata": {},
   "source": [
    "# Livro : Projeto de ciências de dados com Python"
   ]
  },
  {
   "cell_type": "markdown",
   "metadata": {},
   "source": [
    "# Capitulo 01\n",
    "\n",
    "## Exploração e limpeza de dados\n",
    "\n"
   ]
  },
  {
   "cell_type": "code",
   "execution_count": null,
   "metadata": {},
   "outputs": [],
   "source": [
    "#listas\n",
    "\n",
    "# Criando uma lista de 1 - 5 (não inclusiva)\n",
    "example_list = list(range(1,6)) #type list\n",
    "\n",
    "# acessando via indices\n",
    "\n",
    "example_list[0]\n",
    "example_list[-1] # acessa o ultimo indice da lista (5)\n",
    "\n",
    "# slice\n",
    "\n",
    "example_list[0:3] # indicamos que estamos 'fatiando' o nosso array até o valor de numero 3 \n",
    "\n",
    "# alterando um arraay pelo indice\n",
    "\n",
    "example_list[0] = 'Mudei o indice 0'\n",
    "example_list #['Mudei o indice 0', 2, 3, 4, 5]\n",
    "\n"
   ]
  },
  {
   "cell_type": "code",
   "execution_count": null,
   "metadata": {},
   "outputs": [],
   "source": [
    "# Dicionais\n",
    "\n",
    "#Dicionarios em python é um conjunto de chave valor\n",
    "\n",
    "familia = {\n",
    "  'nome':'Lucas',\n",
    "  'idade':29,\n",
    "  'profissão':'analista de dados',\n",
    "  'solteiro':False,\n",
    "          }\n",
    "\n"
   ]
  },
  {
   "cell_type": "code",
   "execution_count": null,
   "metadata": {},
   "outputs": [],
   "source": [
    "# Exercicio 1\n",
    "\n",
    "# crie um loop for para percorrer um array de 1 a 4\n",
    "\n",
    "\n",
    "for i in range(1,5):\n",
    "  print(i)\n",
    "  \n",
    "# crie um dicionario\n",
    "\n",
    "fruits = {'apple':5,'orange':8,'banana':13}\n",
    "\n",
    "# converta um dicionario em lista\n",
    "\n",
    "fruits_list = list(fruits)\n",
    "fruits_list #vai nos trazer somente as chaves(apple,orange,banana)\n",
    "\n",
    "# converta um dicionario em lista - trazendo os valores\n",
    "fruits_list = list(fruits.values())\n",
    "fruits_list #vai nos trazer somente os valores (5,8,13)\n",
    "\n",
    "# adicionando uma lista em outra\n",
    "\n",
    "list1 = ['pera','uva']\n",
    "list2 = ['apple','orange','banana']\n",
    "\n",
    "novo = list2 + list1\n",
    "\n",
    "# ordenando por ordem alfabetica/numerica\n",
    "sorted(novo)"
   ]
  },
  {
   "cell_type": "markdown",
   "metadata": {},
   "source": [
    "# Dando inicio aos data frames no jupyter "
   ]
  },
  {
   "cell_type": "code",
   "execution_count": 32,
   "metadata": {},
   "outputs": [
    {
     "name": "stdout",
     "output_type": "stream",
     "text": [
      "Requirement already satisfied: xlrd in c:\\users\\lucas\\anaconda3\\lib\\site-packages (2.0.1)Note: you may need to restart the kernel to use updated packages.\n",
      "\n"
     ]
    }
   ],
   "source": [
    "import pandas as pd\n",
    "%pip install xlrd"
   ]
  },
  {
   "cell_type": "markdown",
   "metadata": {},
   "source": [
    "# 2 - Carregando dados"
   ]
  },
  {
   "cell_type": "code",
   "execution_count": 33,
   "metadata": {},
   "outputs": [
    {
     "ename": "",
     "evalue": "",
     "output_type": "error",
     "traceback": [
      "\u001b[1;31mThe Kernel crashed while executing code in the current cell or a previous cell. \n",
      "\u001b[1;31mPlease review the code in the cell(s) to identify a possible cause of the failure. \n",
      "\u001b[1;31mClick <a href='https://aka.ms/vscodeJupyterKernelCrash'>here</a> for more info. \n",
      "\u001b[1;31mView Jupyter <a href='command:jupyter.viewOutput'>log</a> for further details."
     ]
    }
   ],
   "source": [
    "\n",
    "\n",
    "df = pd.read_excel('../livro-projeto_ds_python/data/default_of_credit_card_clients__courseware_version_1_21_19.xls')\n"
   ]
  },
  {
   "cell_type": "code",
   "execution_count": null,
   "metadata": {},
   "outputs": [],
   "source": [
    "# 1º passo: entender o problema\n",
    "# 2º cliente: cartão de credito, onde temos dados dos ultimos 6 meses (30kcliente)\n",
    "# 3º objetivo: modelo capaz de prever qual cliente/conta vai ficar inadiplente no proximo mes"
   ]
  },
  {
   "cell_type": "code",
   "execution_count": null,
   "metadata": {},
   "outputs": [],
   "source": []
  }
 ],
 "metadata": {
  "kernelspec": {
   "display_name": "Python 3",
   "language": "python",
   "name": "python3"
  },
  "language_info": {
   "codemirror_mode": {
    "name": "ipython",
    "version": 3
   },
   "file_extension": ".py",
   "mimetype": "text/x-python",
   "name": "python",
   "nbconvert_exporter": "python",
   "pygments_lexer": "ipython3",
   "version": "3.11.5"
  }
 },
 "nbformat": 4,
 "nbformat_minor": 2
}
