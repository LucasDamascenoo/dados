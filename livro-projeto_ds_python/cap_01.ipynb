{
 "cells": [
  {
   "cell_type": "markdown",
   "metadata": {},
   "source": [
    "# Livro : Projeto de ciências de dados com Python"
   ]
  },
  {
   "cell_type": "markdown",
   "metadata": {},
   "source": [
    "# Capitulo 01\n",
    "\n",
    "## Exploração e limpeza de dados\n",
    "\n"
   ]
  },
  {
   "cell_type": "code",
   "execution_count": null,
   "metadata": {},
   "outputs": [],
   "source": [
    "#listas\n",
    "\n",
    "# Criando uma lista de 1 - 5 (não inclusiva)\n",
    "example_list = list(range(1,6)) #type list\n",
    "\n",
    "# acessando via indices\n",
    "\n",
    "example_list[0]\n",
    "example_list[-1] # acessa o ultimo indice da lista (5)\n",
    "\n",
    "# slice\n",
    "\n",
    "example_list[0:3] # indicamos que estamos 'fatiando' o nosso array até o valor de numero 3 \n",
    "\n",
    "# alterando um arraay pelo indice\n",
    "\n",
    "example_list[0] = 'Mudei o indice 0'\n",
    "example_list #['Mudei o indice 0', 2, 3, 4, 5]\n",
    "\n"
   ]
  },
  {
   "cell_type": "code",
   "execution_count": null,
   "metadata": {},
   "outputs": [],
   "source": [
    "# Dicionais\n",
    "\n",
    "#Dicionarios em python é um conjunto de chave valor\n",
    "\n",
    "familia = {\n",
    "  'nome':'Lucas',\n",
    "  'idade':29,\n",
    "  'profissão':'analista de dados',\n",
    "  'solteiro':False,\n",
    "          }\n",
    "\n"
   ]
  },
  {
   "cell_type": "code",
   "execution_count": null,
   "metadata": {},
   "outputs": [],
   "source": [
    "# Exercicio 1\n",
    "\n",
    "# crie um loop for para percorrer um array de 1 a 4\n",
    "\n",
    "\n",
    "for i in range(1,5):\n",
    "  print(i)\n",
    "  \n",
    "# crie um dicionario\n",
    "\n",
    "fruits = {'apple':5,'orange':8,'banana':13}\n",
    "\n",
    "# converta um dicionario em lista\n",
    "\n",
    "fruits_list = list(fruits)\n",
    "fruits_list #vai nos trazer somente as chaves(apple,orange,banana)\n",
    "\n",
    "# converta um dicionario em lista - trazendo os valores\n",
    "fruits_list = list(fruits.values())\n",
    "fruits_list #vai nos trazer somente os valores (5,8,13)\n",
    "\n",
    "# adicionando uma lista em outra\n",
    "\n",
    "list1 = ['pera','uva']\n",
    "list2 = ['apple','orange','banana']\n",
    "\n",
    "novo = list2 + list1\n",
    "\n",
    "# ordenando por ordem alfabetica/numerica\n",
    "sorted(novo)"
   ]
  },
  {
   "cell_type": "markdown",
   "metadata": {},
   "source": [
    "# Dando inicio aos data frames no jupyter "
   ]
  },
  {
   "cell_type": "code",
   "execution_count": 3,
   "metadata": {},
   "outputs": [],
   "source": [
    "import pandas as pd\n",
    " "
   ]
  },
  {
   "cell_type": "markdown",
   "metadata": {},
   "source": [
    "# 2 - Carregando dados"
   ]
  },
  {
   "cell_type": "code",
   "execution_count": null,
   "metadata": {},
   "outputs": [],
   "source": [
    "\n",
    "\n",
    "df = pd.read_excel('C:/Users/lucas/Downloads/default_of_credit_card_clients__courseware_version_1_21_19.xls')\n",
    "df.head() # ve as 5 primeiras linhas de informação do dataFrame\n",
    "df.info() # mostra todos os campos do DataFRame e seu tipo de dados\n",
    "df.columns #mostra o nome das colunas em strings\n",
    "df.shape #mostra a qtd de linhas e colunas\n"
   ]
  },
  {
   "cell_type": "code",
   "execution_count": null,
   "metadata": {},
   "outputs": [],
   "source": [
    "# 1º passo: entender o problema\n",
    "# 2º cliente: cartão de credito, onde temos dados dos ultimos 6 meses (30kcliente)\n",
    "# 3º objetivo: modelo capaz de prever qual cliente/conta vai ficar inadiplente no proximo mes"
   ]
  },
  {
   "cell_type": "markdown",
   "metadata": {},
   "source": [
    "## Vericando valores Unicos de uma serie (coluna)"
   ]
  },
  {
   "cell_type": "code",
   "execution_count": 10,
   "metadata": {},
   "outputs": [
    {
     "data": {
      "text/plain": [
       "29687"
      ]
     },
     "execution_count": 10,
     "metadata": {},
     "output_type": "execute_result"
    }
   ],
   "source": [
    "df['ID'].nunique()"
   ]
  },
  {
   "cell_type": "markdown",
   "metadata": {},
   "source": [
    "## Verificando a quantidade de IDS tem no no DF"
   ]
  },
  {
   "cell_type": "code",
   "execution_count": 15,
   "metadata": {},
   "outputs": [
    {
     "data": {
      "text/plain": [
       "count\n",
       "1    29374\n",
       "2      313\n",
       "Name: count, dtype: int64"
      ]
     },
     "execution_count": 15,
     "metadata": {},
     "output_type": "execute_result"
    }
   ],
   "source": [
    "id_count = df['ID'].value_counts()\n",
    "id_count.value_counts()"
   ]
  }
 ],
 "metadata": {
  "kernelspec": {
   "display_name": "Python 3",
   "language": "python",
   "name": "python3"
  },
  "language_info": {
   "codemirror_mode": {
    "name": "ipython",
    "version": 3
   },
   "file_extension": ".py",
   "mimetype": "text/x-python",
   "name": "python",
   "nbconvert_exporter": "python",
   "pygments_lexer": "ipython3",
   "version": "3.11.5"
  }
 },
 "nbformat": 4,
 "nbformat_minor": 2
}
